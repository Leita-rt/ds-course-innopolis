{
 "cells": [
  {
   "cell_type": "markdown",
   "id": "c08bd52c",
   "metadata": {},
   "source": [
    "## Обучение модели классификации для цветков Iris"
   ]
  },
  {
   "cell_type": "code",
   "execution_count": 1,
   "id": "6c774e72",
   "metadata": {},
   "outputs": [
    {
     "name": "stdout",
     "output_type": "stream",
     "text": [
      "Requirement already satisfied: pyspark in c:\\users\\margarita\\anaconda3\\lib\\site-packages (3.2.0)\n",
      "Requirement already satisfied: py4j==0.10.9.2 in c:\\users\\margarita\\anaconda3\\lib\\site-packages (from pyspark) (0.10.9.2)\n"
     ]
    }
   ],
   "source": [
    "!pip install pyspark"
   ]
  },
  {
   "cell_type": "code",
   "execution_count": 11,
   "id": "d7a4fca5",
   "metadata": {},
   "outputs": [],
   "source": [
    "import pandas as pd\n",
    "import numpy as np\n",
    "import seaborn as sns"
   ]
  },
  {
   "cell_type": "code",
   "execution_count": 3,
   "id": "41fb8cc1",
   "metadata": {},
   "outputs": [],
   "source": [
    "from pyspark.sql.functions import *\n",
    "from pyspark.sql.types import StructType, StringType, IntegerType, ArrayType, DoubleType, BooleanType\n",
    "\n",
    "from pyspark.ml.feature import StringIndexer, VectorAssembler\n",
    "from pyspark.ml import Pipeline\n",
    "from pyspark.ml.classification import LogisticRegression\n",
    "from pyspark.ml.evaluation import MulticlassClassificationEvaluator\n",
    "\n",
    "from pyspark.context import SparkContext\n",
    "from pyspark.sql.session import SparkSession\n",
    "\n",
    "import warnings\n",
    "warnings.filterwarnings(\"ignore\")\n",
    "\n",
    "sc = SparkContext('local')\n",
    "spark = SparkSession(sc)"
   ]
  },
  {
   "cell_type": "code",
   "execution_count": 4,
   "id": "261280dd",
   "metadata": {},
   "outputs": [],
   "source": [
    "# 1-2. Загружаем данные из файла iris.csv\n",
    "\n",
    "df = spark.read.options(sep=\",\", quote='', header=True).csv('iris.csv')"
   ]
  },
  {
   "cell_type": "code",
   "execution_count": 5,
   "id": "82b0e75f",
   "metadata": {
    "scrolled": true
   },
   "outputs": [
    {
     "name": "stdout",
     "output_type": "stream",
     "text": [
      "+-------------+---------------+----------------+---------------+------------+\n",
      "|\"sepal.length|\"\"sepal.width\"\"|\"\"petal.length\"\"|\"\"petal.width\"\"|\"\"variety\"\"\"|\n",
      "+-------------+---------------+----------------+---------------+------------+\n",
      "|         \"5.1|            3.5|             1.4|             .2| \"\"Setosa\"\"\"|\n",
      "|         \"4.9|              3|             1.4|             .2| \"\"Setosa\"\"\"|\n",
      "|         \"4.7|            3.2|             1.3|             .2| \"\"Setosa\"\"\"|\n",
      "|         \"4.6|            3.1|             1.5|             .2| \"\"Setosa\"\"\"|\n",
      "|           \"5|            3.6|             1.4|             .2| \"\"Setosa\"\"\"|\n",
      "+-------------+---------------+----------------+---------------+------------+\n",
      "only showing top 5 rows\n",
      "\n"
     ]
    }
   ],
   "source": [
    "df.show(5)"
   ]
  },
  {
   "cell_type": "code",
   "execution_count": 6,
   "id": "554bb2cd",
   "metadata": {},
   "outputs": [],
   "source": [
    "# Создаем новый датафрейм из предыдущего, в котором будем использовать новые имена для колонок\n",
    "\n",
    "newColumns = ['sepal_length', 'sepal_width', 'petal_length', 'petal_width', 'variety']\n",
    "df_new = df.toDF(*newColumns)"
   ]
  },
  {
   "cell_type": "code",
   "execution_count": 7,
   "id": "a2cfa3a0",
   "metadata": {},
   "outputs": [],
   "source": [
    "# Удаляем кавычки из значений в первой и последней колонках \n",
    "\n",
    "df_new = df_new.withColumn('sepal_length', regexp_replace(col('sepal_length'), '\"', ''))\\\n",
    "               .withColumn('variety', regexp_replace(col('variety'), '\"', ''))"
   ]
  },
  {
   "cell_type": "code",
   "execution_count": 8,
   "id": "51d4af48",
   "metadata": {},
   "outputs": [
    {
     "name": "stdout",
     "output_type": "stream",
     "text": [
      "root\n",
      " |-- sepal_length: string (nullable = true)\n",
      " |-- sepal_width: string (nullable = true)\n",
      " |-- petal_length: string (nullable = true)\n",
      " |-- petal_width: string (nullable = true)\n",
      " |-- variety: string (nullable = true)\n",
      "\n"
     ]
    }
   ],
   "source": [
    "# Проверяем схему нашего нового датафрейма.\n",
    "\n",
    "df_new.printSchema()"
   ]
  },
  {
   "cell_type": "code",
   "execution_count": 9,
   "id": "35a8fb38",
   "metadata": {},
   "outputs": [],
   "source": [
    "# Задаем корректные типы данных для числовых значений\n",
    "\n",
    "df_new = df_new\\\n",
    "    .withColumn('sepal_length', col('sepal_length').cast(DoubleType()))\\\n",
    "    .withColumn('sepal_width', col('sepal_width').cast(DoubleType()))\\\n",
    "    .withColumn('petal_length', col('petal_length').cast(DoubleType()))\\\n",
    "    .withColumn('petal_width', col('petal_width').cast(DoubleType()))"
   ]
  },
  {
   "cell_type": "code",
   "execution_count": 10,
   "id": "8c1a5c33",
   "metadata": {},
   "outputs": [
    {
     "name": "stdout",
     "output_type": "stream",
     "text": [
      "+------------+-----------+------------+-----------+-------+\n",
      "|sepal_length|sepal_width|petal_length|petal_width|variety|\n",
      "+------------+-----------+------------+-----------+-------+\n",
      "|         5.1|        3.5|         1.4|        0.2| Setosa|\n",
      "|         4.9|        3.0|         1.4|        0.2| Setosa|\n",
      "|         4.7|        3.2|         1.3|        0.2| Setosa|\n",
      "|         4.6|        3.1|         1.5|        0.2| Setosa|\n",
      "|         5.0|        3.6|         1.4|        0.2| Setosa|\n",
      "+------------+-----------+------------+-----------+-------+\n",
      "only showing top 5 rows\n",
      "\n"
     ]
    }
   ],
   "source": [
    "# Выводим 5 первых строк данных\n",
    "\n",
    "df_new.show(5)"
   ]
  },
  {
   "cell_type": "code",
   "execution_count": 13,
   "id": "d4d65516",
   "metadata": {},
   "outputs": [],
   "source": [
    "# 3. При помощи VectorAssembler преобразовываем все колонки с признаками в одну\n",
    "\n",
    "pipeline = Pipeline(stages = [StringIndexer(inputCol = 'variety', outputCol = 'varietyInd'),\n",
    "                   VectorAssembler(inputCols = ['sepal_length', 'sepal_width', 'petal_length', 'petal_width'], outputCol = 'Features')])"
   ]
  },
  {
   "cell_type": "code",
   "execution_count": 14,
   "id": "cc4a8941",
   "metadata": {},
   "outputs": [],
   "source": [
    "# Подгоняем через заданный pipeline наш датасет\n",
    "\n",
    "pipelineTrained = pipeline.fit(df_new)"
   ]
  },
  {
   "cell_type": "code",
   "execution_count": 15,
   "id": "b02ef1c2",
   "metadata": {},
   "outputs": [
    {
     "name": "stdout",
     "output_type": "stream",
     "text": [
      "+------------+-----------+------------+-----------+-------+----------+-----------------+\n",
      "|sepal_length|sepal_width|petal_length|petal_width|variety|varietyInd|         Features|\n",
      "+------------+-----------+------------+-----------+-------+----------+-----------------+\n",
      "|         5.1|        3.5|         1.4|        0.2| Setosa|       0.0|[5.1,3.5,1.4,0.2]|\n",
      "|         4.9|        3.0|         1.4|        0.2| Setosa|       0.0|[4.9,3.0,1.4,0.2]|\n",
      "|         4.7|        3.2|         1.3|        0.2| Setosa|       0.0|[4.7,3.2,1.3,0.2]|\n",
      "|         4.6|        3.1|         1.5|        0.2| Setosa|       0.0|[4.6,3.1,1.5,0.2]|\n",
      "|         5.0|        3.6|         1.4|        0.2| Setosa|       0.0|[5.0,3.6,1.4,0.2]|\n",
      "|         5.4|        3.9|         1.7|        0.4| Setosa|       0.0|[5.4,3.9,1.7,0.4]|\n",
      "|         4.6|        3.4|         1.4|        0.3| Setosa|       0.0|[4.6,3.4,1.4,0.3]|\n",
      "|         5.0|        3.4|         1.5|        0.2| Setosa|       0.0|[5.0,3.4,1.5,0.2]|\n",
      "|         4.4|        2.9|         1.4|        0.2| Setosa|       0.0|[4.4,2.9,1.4,0.2]|\n",
      "|         4.9|        3.1|         1.5|        0.1| Setosa|       0.0|[4.9,3.1,1.5,0.1]|\n",
      "|         5.4|        3.7|         1.5|        0.2| Setosa|       0.0|[5.4,3.7,1.5,0.2]|\n",
      "|         4.8|        3.4|         1.6|        0.2| Setosa|       0.0|[4.8,3.4,1.6,0.2]|\n",
      "|         4.8|        3.0|         1.4|        0.1| Setosa|       0.0|[4.8,3.0,1.4,0.1]|\n",
      "|         4.3|        3.0|         1.1|        0.1| Setosa|       0.0|[4.3,3.0,1.1,0.1]|\n",
      "|         5.8|        4.0|         1.2|        0.2| Setosa|       0.0|[5.8,4.0,1.2,0.2]|\n",
      "|         5.7|        4.4|         1.5|        0.4| Setosa|       0.0|[5.7,4.4,1.5,0.4]|\n",
      "|         5.4|        3.9|         1.3|        0.4| Setosa|       0.0|[5.4,3.9,1.3,0.4]|\n",
      "|         5.1|        3.5|         1.4|        0.3| Setosa|       0.0|[5.1,3.5,1.4,0.3]|\n",
      "|         5.7|        3.8|         1.7|        0.3| Setosa|       0.0|[5.7,3.8,1.7,0.3]|\n",
      "|         5.1|        3.8|         1.5|        0.3| Setosa|       0.0|[5.1,3.8,1.5,0.3]|\n",
      "+------------+-----------+------------+-----------+-------+----------+-----------------+\n",
      "only showing top 20 rows\n",
      "\n"
     ]
    }
   ],
   "source": [
    "# Применяем метод transform для объекта VectorAssembler, который преобразует наш датафрейм\n",
    "\n",
    "pipelineTrained.transform(df_new).show()"
   ]
  },
  {
   "cell_type": "code",
   "execution_count": 16,
   "id": "bb1592a5",
   "metadata": {},
   "outputs": [],
   "source": [
    "# С новым признаком Features создаем новый датафрейм\n",
    "\n",
    "df_features = pipelineTrained.transform(df_new)"
   ]
  },
  {
   "cell_type": "code",
   "execution_count": 23,
   "id": "7eb4ba2c",
   "metadata": {},
   "outputs": [],
   "source": [
    "# 4. Разбиваем данные на train и test.\n",
    "# При этом назначаем соответствующие веса и указываем seed для сохранения рандомного разделения выборки\n",
    "\n",
    "train, test = df_features.randomSplit([0.8, 0.2], seed = 35)"
   ]
  },
  {
   "cell_type": "code",
   "execution_count": 28,
   "id": "b74b934f",
   "metadata": {},
   "outputs": [
    {
     "name": "stdout",
     "output_type": "stream",
     "text": [
      "+------------+-----------+------------+-----------+----------+----------+-----------------+\n",
      "|sepal_length|sepal_width|petal_length|petal_width|   variety|varietyInd|         Features|\n",
      "+------------+-----------+------------+-----------+----------+----------+-----------------+\n",
      "|         4.3|        3.0|         1.1|        0.1|    Setosa|       0.0|[4.3,3.0,1.1,0.1]|\n",
      "|         4.4|        2.9|         1.4|        0.2|    Setosa|       0.0|[4.4,2.9,1.4,0.2]|\n",
      "|         4.4|        3.0|         1.3|        0.2|    Setosa|       0.0|[4.4,3.0,1.3,0.2]|\n",
      "|         4.4|        3.2|         1.3|        0.2|    Setosa|       0.0|[4.4,3.2,1.3,0.2]|\n",
      "|         4.5|        2.3|         1.3|        0.3|    Setosa|       0.0|[4.5,2.3,1.3,0.3]|\n",
      "|         4.6|        3.1|         1.5|        0.2|    Setosa|       0.0|[4.6,3.1,1.5,0.2]|\n",
      "|         4.6|        3.2|         1.4|        0.2|    Setosa|       0.0|[4.6,3.2,1.4,0.2]|\n",
      "|         4.6|        3.4|         1.4|        0.3|    Setosa|       0.0|[4.6,3.4,1.4,0.3]|\n",
      "|         4.7|        3.2|         1.3|        0.2|    Setosa|       0.0|[4.7,3.2,1.3,0.2]|\n",
      "|         4.8|        3.0|         1.4|        0.1|    Setosa|       0.0|[4.8,3.0,1.4,0.1]|\n",
      "|         4.8|        3.0|         1.4|        0.3|    Setosa|       0.0|[4.8,3.0,1.4,0.3]|\n",
      "|         4.8|        3.1|         1.6|        0.2|    Setosa|       0.0|[4.8,3.1,1.6,0.2]|\n",
      "|         4.8|        3.4|         1.6|        0.2|    Setosa|       0.0|[4.8,3.4,1.6,0.2]|\n",
      "|         4.8|        3.4|         1.9|        0.2|    Setosa|       0.0|[4.8,3.4,1.9,0.2]|\n",
      "|         4.9|        2.5|         4.5|        1.7| Virginica|       2.0|[4.9,2.5,4.5,1.7]|\n",
      "|         4.9|        3.0|         1.4|        0.2|    Setosa|       0.0|[4.9,3.0,1.4,0.2]|\n",
      "|         4.9|        3.1|         1.5|        0.1|    Setosa|       0.0|[4.9,3.1,1.5,0.1]|\n",
      "|         5.0|        2.0|         3.5|        1.0|Versicolor|       1.0|[5.0,2.0,3.5,1.0]|\n",
      "|         5.0|        2.3|         3.3|        1.0|Versicolor|       1.0|[5.0,2.3,3.3,1.0]|\n",
      "|         5.0|        3.0|         1.6|        0.2|    Setosa|       0.0|[5.0,3.0,1.6,0.2]|\n",
      "+------------+-----------+------------+-----------+----------+----------+-----------------+\n",
      "only showing top 20 rows\n",
      "\n"
     ]
    }
   ],
   "source": [
    "train.show()"
   ]
  },
  {
   "cell_type": "code",
   "execution_count": 29,
   "id": "68d78260",
   "metadata": {},
   "outputs": [],
   "source": [
    "# 5. Создаем модель логистической регрессии и обучаем ее\n",
    "\n",
    "lr = LogisticRegression(featuresCol = 'Features', labelCol = 'varietyInd')\n",
    "lrModel = lr.fit(train)"
   ]
  },
  {
   "cell_type": "code",
   "execution_count": 31,
   "id": "3c4b1d3b",
   "metadata": {},
   "outputs": [],
   "source": [
    "# Получаем предсказания с помощью метода transform\n",
    "\n",
    "train_res = lrModel.transform(train)\n",
    "test_res = lrModel.transform(test)"
   ]
  },
  {
   "cell_type": "code",
   "execution_count": 32,
   "id": "93ca9010",
   "metadata": {},
   "outputs": [
    {
     "name": "stdout",
     "output_type": "stream",
     "text": [
      "+------------+-----------+------------+-----------+----------+----------+-----------------+--------------------+--------------------+----------+\n",
      "|sepal_length|sepal_width|petal_length|petal_width|   variety|varietyInd|         Features|       rawPrediction|         probability|prediction|\n",
      "+------------+-----------+------------+-----------+----------+----------+-----------------+--------------------+--------------------+----------+\n",
      "|         4.3|        3.0|         1.1|        0.1|    Setosa|       0.0|[4.3,3.0,1.1,0.1]|[55.1497011816620...|[1.0,4.7302496569...|       0.0|\n",
      "|         4.4|        2.9|         1.4|        0.2|    Setosa|       0.0|[4.4,2.9,1.4,0.2]|[46.5966098393767...|[1.0,1.5895428182...|       0.0|\n",
      "|         4.4|        3.0|         1.3|        0.2|    Setosa|       0.0|[4.4,3.0,1.3,0.2]|[50.2591019033602...|[1.0,1.3995721418...|       0.0|\n",
      "|         4.4|        3.2|         1.3|        0.2|    Setosa|       0.0|[4.4,3.2,1.3,0.2]|[55.7595478673163...|[1.0,6.9527164006...|       0.0|\n",
      "|         4.5|        2.3|         1.3|        0.3|    Setosa|       0.0|[4.5,2.3,1.3,0.3]|[27.9414799152226...|[0.99999997634972...|       0.0|\n",
      "|         4.6|        3.1|         1.5|        0.2|    Setosa|       0.0|[4.6,3.1,1.5,0.2]|[49.3581345796921...|[1.0,3.6537556360...|       0.0|\n",
      "|         4.6|        3.2|         1.4|        0.2|    Setosa|       0.0|[4.6,3.2,1.4,0.2]|[53.0206266436755...|[1.0,3.2170851535...|       0.0|\n",
      "|         4.6|        3.4|         1.4|        0.3|    Setosa|       0.0|[4.6,3.4,1.4,0.3]|[56.3683375641583...|[1.0,1.7260133715...|       0.0|\n",
      "|         4.7|        3.2|         1.3|        0.2|    Setosa|       0.0|[4.7,3.2,1.3,0.2]|[53.0195696548631...|[1.0,5.4335259462...|       0.0|\n",
      "|         4.8|        3.0|         1.4|        0.1|    Setosa|       0.0|[4.8,3.0,1.4,0.1]|[47.8462635815572...|[1.0,1.0960552430...|       0.0|\n",
      "|         4.8|        3.0|         1.4|        0.3|    Setosa|       0.0|[4.8,3.0,1.4,0.3]|[43.5407934946105...|[1.0,1.2784307009...|       0.0|\n",
      "|         4.8|        3.1|         1.6|        0.2|    Setosa|       0.0|[4.8,3.1,1.6,0.2]|[46.6192133560512...|[1.0,1.6906259847...|       0.0|\n",
      "|         4.8|        3.4|         1.6|        0.2|    Setosa|       0.0|[4.8,3.4,1.6,0.2]|[54.8698823019854...|[1.0,1.8719160939...|       0.0|\n",
      "|         4.8|        3.4|         1.9|        0.2|    Setosa|       0.0|[4.8,3.4,1.9,0.2]|[52.1330750559693...|[1.0,3.0363794401...|       0.0|\n",
      "|         4.9|        2.5|         4.5|        1.7| Virginica|       2.0|[4.9,2.5,4.5,1.7]|[-29.542279636890...|[2.35296335164457...|       2.0|\n",
      "|         4.9|        3.0|         1.4|        0.2|    Setosa|       0.0|[4.9,3.0,1.4,0.2]|[44.7802024672661...|[1.0,5.0609326880...|       0.0|\n",
      "|         4.9|        3.1|         1.5|        0.1|    Setosa|       0.0|[4.9,3.1,1.5,0.1]|[48.7708914107122...|[1.0,2.6438959205...|       0.0|\n",
      "|         5.0|        2.0|         3.5|        1.0|Versicolor|       1.0|[5.0,2.0,3.5,1.0]|[-20.014884493231...|[2.55695539482059...|       1.0|\n",
      "|         5.0|        2.3|         3.3|        1.0|Versicolor|       1.0|[5.0,2.3,3.3,1.0]|[-9.9396773832867...|[1.47978103089127...|       1.0|\n",
      "|         5.0|        3.0|         1.6|        0.2|    Setosa|       0.0|[5.0,3.0,1.6,0.2]|[42.0423382324377...|[0.99999999999999...|       0.0|\n",
      "+------------+-----------+------------+-----------+----------+----------+-----------------+--------------------+--------------------+----------+\n",
      "only showing top 20 rows\n",
      "\n"
     ]
    }
   ],
   "source": [
    "# Предсказания на обучающей выборке\n",
    "\n",
    "train_res.show()"
   ]
  },
  {
   "cell_type": "code",
   "execution_count": 33,
   "id": "de79ab6a",
   "metadata": {},
   "outputs": [
    {
     "name": "stdout",
     "output_type": "stream",
     "text": [
      "+------------+-----------+------------+-----------+----------+----------+-----------------+--------------------+--------------------+----------+\n",
      "|sepal_length|sepal_width|petal_length|petal_width|   variety|varietyInd|         Features|       rawPrediction|         probability|prediction|\n",
      "+------------+-----------+------------+-----------+----------+----------+-----------------+--------------------+--------------------+----------+\n",
      "|         4.6|        3.6|         1.0|        0.2|    Setosa|       0.0|[4.6,3.6,1.0,0.2]|[67.6705948996092...|[1.0,1.9335472491...|       0.0|\n",
      "|         4.7|        3.2|         1.6|        0.2|    Setosa|       0.0|[4.7,3.2,1.6,0.2]|[50.2827624088470...|[1.0,8.8135608877...|       0.0|\n",
      "|         4.9|        2.4|         3.3|        1.0|Versicolor|       1.0|[4.9,2.4,3.3,1.0]|[-6.2761283304909...|[2.83853063388669...|       1.0|\n",
      "|         4.9|        3.1|         1.5|        0.2|    Setosa|       0.0|[4.9,3.1,1.5,0.2]|[46.6181563672388...|[1.0,2.8553985098...|       0.0|\n",
      "|         4.9|        3.6|         1.4|        0.1|    Setosa|       0.0|[4.9,3.6,1.4,0.1]|[63.4342754026079...|[1.0,5.7449448530...|       0.0|\n",
      "|         5.0|        3.2|         1.2|        0.2|    Setosa|       0.0|[5.0,3.2,1.2,0.2]|[51.1918605244153...|[1.0,1.6774609575...|       0.0|\n",
      "|         5.0|        3.3|         1.4|        0.2|    Setosa|       0.0|[5.0,3.3,1.4,0.2]|[52.1175453423826...|[1.0,2.3957701136...|       0.0|\n",
      "|         5.0|        3.4|         1.6|        0.4|    Setosa|       0.0|[5.0,3.4,1.6,0.4]|[48.7377600734032...|[1.0,3.9910081314...|       0.0|\n",
      "|         5.1|        3.5|         1.4|        0.2|    Setosa|       0.0|[5.1,3.5,1.4,0.2]|[56.7046652355210...|[1.0,5.0883867375...|       0.0|\n",
      "|         5.4|        3.4|         1.5|        0.4|    Setosa|       0.0|[5.4,3.4,1.5,0.4]|[45.9967248721377...|[1.0,5.2677970128...|       0.0|\n",
      "|         5.7|        2.9|         4.2|        1.3|Versicolor|       1.0|[5.7,2.9,4.2,1.3]|[-14.500248855610...|[8.59826761668581...|       1.0|\n",
      "|         5.7|        3.0|         4.2|        1.2|Versicolor|       1.0|[5.7,3.0,4.2,1.2]|[-9.5972908301593...|[4.16635222851107...|       1.0|\n",
      "|         5.7|        3.8|         1.7|        0.3|    Setosa|       0.0|[5.7,3.8,1.7,0.3]|[54.5858354670594...|[1.0,6.0278918064...|       0.0|\n",
      "|         5.8|        2.7|         5.1|        1.9| Virginica|       2.0|[5.8,2.7,5.1,1.9]|[-42.040852889272...|[1.13888429743898...|       2.0|\n",
      "|         5.8|        2.8|         5.1|        2.4| Virginica|       2.0|[5.8,2.8,5.1,2.4]|[-50.054305124661...|[1.35335617061338...|       2.0|\n",
      "|         5.8|        4.0|         1.2|        0.2|    Setosa|       0.0|[5.8,4.0,1.2,0.2]|[65.8870358136979...|[1.0,1.1404999503...|       0.0|\n",
      "|         5.9|        3.0|         4.2|        1.5|Versicolor|       1.0|[5.9,3.0,4.2,1.5]|[-17.882148102214...|[1.80929487800759...|       1.0|\n",
      "|         6.0|        2.2|         4.0|        1.0|Versicolor|       1.0|[6.0,2.2,4.0,1.0]|[-28.209044647479...|[2.42674200819917...|       1.0|\n",
      "|         6.0|        3.0|         4.8|        1.8| Virginica|       2.0|[6.0,3.0,4.8,1.8]|[-30.727293795484...|[4.62045340955147...|       2.0|\n",
      "|         6.1|        2.8|         4.7|        1.2|Versicolor|       1.0|[6.1,2.8,4.7,1.2]|[-23.312386487413...|[5.95927277821169...|       1.0|\n",
      "+------------+-----------+------------+-----------+----------+----------+-----------------+--------------------+--------------------+----------+\n",
      "only showing top 20 rows\n",
      "\n"
     ]
    }
   ],
   "source": [
    "# Предсказания на тестовой выборке\n",
    "\n",
    "test_res.show()"
   ]
  },
  {
   "cell_type": "code",
   "execution_count": 36,
   "id": "9222b13e",
   "metadata": {},
   "outputs": [],
   "source": [
    "# 6. Воспользуемся MulticlassClassificationEvaluator для оценки качества на train и test множестве\n",
    "\n",
    "ev = MulticlassClassificationEvaluator(labelCol = 'varietyInd')"
   ]
  },
  {
   "cell_type": "code",
   "execution_count": 39,
   "id": "e9128893",
   "metadata": {},
   "outputs": [
    {
     "name": "stdout",
     "output_type": "stream",
     "text": [
      "Точность предсказания на тестовой выборке: 100.0 %\n"
     ]
    }
   ],
   "source": [
    "print('Точность предсказания на тестовой выборке:', ev.evaluate(test_res)*100, '%')"
   ]
  },
  {
   "cell_type": "code",
   "execution_count": 38,
   "id": "d99b43d1",
   "metadata": {},
   "outputs": [
    {
     "name": "stdout",
     "output_type": "stream",
     "text": [
      "Точность предсказания на обучающей выборке: 98.23008849557523 %\n"
     ]
    }
   ],
   "source": [
    "print('Точность предсказания на обучающей выборке:', ev.evaluate(train_res)*100, '%')"
   ]
  },
  {
   "cell_type": "markdown",
   "id": "43b3b13e",
   "metadata": {},
   "source": [
    "### Выводы: по результату проведенной работы можно сделать вывод, что модель логистической регрессии для наших данных довольно хорошо подошла для классификации, точность предсказания на тестовой выборке составила 100%, на обучающей - 98 %."
   ]
  }
 ],
 "metadata": {
  "kernelspec": {
   "display_name": "Python 3 (ipykernel)",
   "language": "python",
   "name": "python3"
  },
  "language_info": {
   "codemirror_mode": {
    "name": "ipython",
    "version": 3
   },
   "file_extension": ".py",
   "mimetype": "text/x-python",
   "name": "python",
   "nbconvert_exporter": "python",
   "pygments_lexer": "ipython3",
   "version": "3.9.7"
  }
 },
 "nbformat": 4,
 "nbformat_minor": 5
}
