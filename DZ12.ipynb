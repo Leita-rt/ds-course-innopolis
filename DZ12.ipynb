{
 "cells": [
  {
   "cell_type": "code",
   "execution_count": 1,
   "id": "6c774e72",
   "metadata": {},
   "outputs": [
    {
     "name": "stdout",
     "output_type": "stream",
     "text": [
      "Requirement already satisfied: pyspark in c:\\users\\margarita\\anaconda3\\lib\\site-packages (3.2.0)\n",
      "Requirement already satisfied: py4j==0.10.9.2 in c:\\users\\margarita\\anaconda3\\lib\\site-packages (from pyspark) (0.10.9.2)\n"
     ]
    }
   ],
   "source": [
    "!pip install pyspark"
   ]
  },
  {
   "cell_type": "code",
   "execution_count": 34,
   "id": "d7a4fca5",
   "metadata": {},
   "outputs": [],
   "source": [
    "import pandas as pd\n",
    "import numpy as np\n",
    "import seaborn as sns"
   ]
  },
  {
   "cell_type": "code",
   "execution_count": 3,
   "id": "41fb8cc1",
   "metadata": {},
   "outputs": [],
   "source": [
    "from pyspark.context import SparkContext\n",
    "from pyspark.sql.session import SparkSession\n",
    "\n",
    "from pyspark.sql.types import StructType, StringType, IntegerType, ArrayType, DoubleType, BooleanType\n",
    "from pyspark.sql.functions import *\n",
    "\n",
    "sc = SparkContext('local')\n",
    "spark = SparkSession(sc)"
   ]
  },
  {
   "cell_type": "code",
   "execution_count": 49,
   "id": "261280dd",
   "metadata": {},
   "outputs": [],
   "source": [
    "# 1. Загружаем данные из файла iris.csv\n",
    "\n",
    "df = spark.read.options(sep=\",\", quote='', header=True).csv('iris.csv')"
   ]
  },
  {
   "cell_type": "code",
   "execution_count": 50,
   "id": "82b0e75f",
   "metadata": {
    "scrolled": true
   },
   "outputs": [
    {
     "name": "stdout",
     "output_type": "stream",
     "text": [
      "+-------------+---------------+----------------+---------------+------------+\n",
      "|\"sepal.length|\"\"sepal.width\"\"|\"\"petal.length\"\"|\"\"petal.width\"\"|\"\"variety\"\"\"|\n",
      "+-------------+---------------+----------------+---------------+------------+\n",
      "|         \"5.1|            3.5|             1.4|             .2| \"\"Setosa\"\"\"|\n",
      "|         \"4.9|              3|             1.4|             .2| \"\"Setosa\"\"\"|\n",
      "|         \"4.7|            3.2|             1.3|             .2| \"\"Setosa\"\"\"|\n",
      "|         \"4.6|            3.1|             1.5|             .2| \"\"Setosa\"\"\"|\n",
      "|           \"5|            3.6|             1.4|             .2| \"\"Setosa\"\"\"|\n",
      "+-------------+---------------+----------------+---------------+------------+\n",
      "only showing top 5 rows\n",
      "\n"
     ]
    }
   ],
   "source": [
    "df.show(5)"
   ]
  },
  {
   "cell_type": "code",
   "execution_count": 51,
   "id": "554bb2cd",
   "metadata": {},
   "outputs": [],
   "source": [
    "# Создаем новый датафрейм из предыдущего, в котором будем использовать новые имена для колонок\n",
    "\n",
    "newColumns = ['sepal_length', 'sepal_width', 'petal_length', 'petal_width', 'variety']\n",
    "df_new = df.toDF(*newColumns)"
   ]
  },
  {
   "cell_type": "code",
   "execution_count": 52,
   "id": "a2cfa3a0",
   "metadata": {},
   "outputs": [],
   "source": [
    "# Удаляем кавычки из значений в первой и последней колонках \n",
    "\n",
    "df_new = df_new.withColumn('sepal_length', regexp_replace(col('sepal_length'), '\"', ''))\\\n",
    "               .withColumn('variety', regexp_replace(col('variety'), '\"', ''))"
   ]
  },
  {
   "cell_type": "code",
   "execution_count": 53,
   "id": "51d4af48",
   "metadata": {},
   "outputs": [
    {
     "name": "stdout",
     "output_type": "stream",
     "text": [
      "root\n",
      " |-- sepal_length: string (nullable = true)\n",
      " |-- sepal_width: string (nullable = true)\n",
      " |-- petal_length: string (nullable = true)\n",
      " |-- petal_width: string (nullable = true)\n",
      " |-- variety: string (nullable = true)\n",
      "\n"
     ]
    }
   ],
   "source": [
    "# Проверяем схему нашего нового датафрейма.\n",
    "\n",
    "df_new.printSchema()"
   ]
  },
  {
   "cell_type": "code",
   "execution_count": 54,
   "id": "35a8fb38",
   "metadata": {},
   "outputs": [],
   "source": [
    "# Задаем корректные типы данных для числовых значений\n",
    "\n",
    "df_new = df_new\\\n",
    "    .withColumn('sepal_length', col('sepal_length').cast(DoubleType()))\\\n",
    "    .withColumn('sepal_width', col('sepal_width').cast(DoubleType()))\\\n",
    "    .withColumn('petal_length', col('petal_length').cast(DoubleType()))\\\n",
    "    .withColumn('petal_width', col('petal_width').cast(DoubleType()))"
   ]
  },
  {
   "cell_type": "code",
   "execution_count": 55,
   "id": "8c1a5c33",
   "metadata": {},
   "outputs": [
    {
     "name": "stdout",
     "output_type": "stream",
     "text": [
      "+------------+-----------+------------+-----------+-------+\n",
      "|sepal_length|sepal_width|petal_length|petal_width|variety|\n",
      "+------------+-----------+------------+-----------+-------+\n",
      "|         5.1|        3.5|         1.4|        0.2| Setosa|\n",
      "|         4.9|        3.0|         1.4|        0.2| Setosa|\n",
      "|         4.7|        3.2|         1.3|        0.2| Setosa|\n",
      "|         4.6|        3.1|         1.5|        0.2| Setosa|\n",
      "|         5.0|        3.6|         1.4|        0.2| Setosa|\n",
      "+------------+-----------+------------+-----------+-------+\n",
      "only showing top 5 rows\n",
      "\n"
     ]
    }
   ],
   "source": [
    "# 2. Выводим 5 первых строк данных\n",
    "\n",
    "df_new.show(5)"
   ]
  },
  {
   "cell_type": "code",
   "execution_count": 56,
   "id": "c50a87dd",
   "metadata": {},
   "outputs": [],
   "source": [
    "# 3. Пишем функцию, которая будет вычислять sum, avg, min и max\n",
    "\n",
    "def agg_func(attr):\n",
    "    df_new.groupBy('variety').agg(sum(attr), avg(attr), min(attr), max(attr)).show()"
   ]
  },
  {
   "cell_type": "code",
   "execution_count": 57,
   "id": "ae606ae1",
   "metadata": {},
   "outputs": [
    {
     "name": "stdout",
     "output_type": "stream",
     "text": [
      "+----------+------------------+-----------------+-----------------+-----------------+\n",
      "|   variety| sum(sepal_length)|avg(sepal_length)|min(sepal_length)|max(sepal_length)|\n",
      "+----------+------------------+-----------------+-----------------+-----------------+\n",
      "| Virginica| 329.3999999999999|6.587999999999998|              4.9|              7.9|\n",
      "|    Setosa|250.29999999999998|5.005999999999999|              4.3|              5.8|\n",
      "|Versicolor|             296.8|            5.936|              4.9|              7.0|\n",
      "+----------+------------------+-----------------+-----------------+-----------------+\n",
      "\n",
      "+----------+------------------+------------------+----------------+----------------+\n",
      "|   variety|  sum(sepal_width)|  avg(sepal_width)|min(sepal_width)|max(sepal_width)|\n",
      "+----------+------------------+------------------+----------------+----------------+\n",
      "| Virginica|             148.7|2.9739999999999998|             2.2|             3.8|\n",
      "|    Setosa|171.40000000000003| 3.428000000000001|             2.3|             4.4|\n",
      "|Versicolor|138.50000000000003|2.7700000000000005|             2.0|             3.4|\n",
      "+----------+------------------+------------------+----------------+----------------+\n",
      "\n",
      "+----------+------------------+------------------+-----------------+-----------------+\n",
      "|   variety| sum(petal_length)| avg(petal_length)|min(petal_length)|max(petal_length)|\n",
      "+----------+------------------+------------------+-----------------+-----------------+\n",
      "| Virginica|277.59999999999997|             5.552|              4.5|              6.9|\n",
      "|    Setosa| 73.10000000000001|1.4620000000000002|              1.0|              1.9|\n",
      "|Versicolor|212.99999999999997|              4.26|              3.0|              5.1|\n",
      "+----------+------------------+------------------+-----------------+-----------------+\n",
      "\n",
      "+----------+------------------+------------------+----------------+----------------+\n",
      "|   variety|  sum(petal_width)|  avg(petal_width)|min(petal_width)|max(petal_width)|\n",
      "+----------+------------------+------------------+----------------+----------------+\n",
      "| Virginica|101.29999999999998|             2.026|             1.4|             2.5|\n",
      "|    Setosa|12.299999999999995|0.2459999999999999|             0.1|             0.6|\n",
      "|Versicolor|              66.3|1.3259999999999998|             1.0|             1.8|\n",
      "+----------+------------------+------------------+----------------+----------------+\n",
      "\n"
     ]
    }
   ],
   "source": [
    "# Выводим sum, avg, min и max для каждого атрибута цветка\n",
    "\n",
    "for i in df_new.columns[:-1]:\n",
    "    agg_func(i)"
   ]
  },
  {
   "cell_type": "code",
   "execution_count": 58,
   "id": "ce1c98f0",
   "metadata": {
    "scrolled": true
   },
   "outputs": [],
   "source": [
    "# Преобразуем Spark DataFrame в Pandas DataFrame\n",
    "\n",
    "df_new_sample = df_new.toPandas()"
   ]
  },
  {
   "cell_type": "code",
   "execution_count": 59,
   "id": "10abf897",
   "metadata": {},
   "outputs": [
    {
     "data": {
      "image/png": "[encoded data removed]",
      "text/plain": [
       "<Figure size 432x288 with 1 Axes>"
      ]
     },
     "metadata": {
      "needs_background": "light"
     },
     "output_type": "display_data"
    }
   ],
   "source": [
    "# 4. Строим точечную диаграмму для petal_length и petal_width, раскрашенную по типам цветков\n",
    "\n",
    "sns.scatterplot(data = df_new_sample, x = 'petal_length', y = 'petal_width', hue = 'variety');"
   ]
  },
  {
   "cell_type": "markdown",
   "id": "516a9aa3",
   "metadata": {},
   "source": [
    "#### 5. Исходя из графика сформулируем правило: \"Если значение petal_length < 2.5 и petal_width < 1, то это класс Setosa, иначе - Unknown\"."
   ]
  },
  {
   "cell_type": "code",
   "execution_count": 60,
   "id": "50ae3163",
   "metadata": {},
   "outputs": [
    {
     "name": "stdout",
     "output_type": "stream",
     "text": [
      "+------------+-----------+------------+-----------+-------+-------+\n",
      "|sepal_length|sepal_width|petal_length|petal_width|variety|predict|\n",
      "+------------+-----------+------------+-----------+-------+-------+\n",
      "|         5.1|        3.5|         1.4|        0.2| Setosa| Setosa|\n",
      "|         4.9|        3.0|         1.4|        0.2| Setosa| Setosa|\n",
      "|         4.7|        3.2|         1.3|        0.2| Setosa| Setosa|\n",
      "|         4.6|        3.1|         1.5|        0.2| Setosa| Setosa|\n",
      "|         5.0|        3.6|         1.4|        0.2| Setosa| Setosa|\n",
      "+------------+-----------+------------+-----------+-------+-------+\n",
      "only showing top 5 rows\n",
      "\n"
     ]
    }
   ],
   "source": [
    "# 6. Создаем в датафрейме новую колонку с предсказанием, исходя из сформулированного выше правила.\n",
    "\n",
    "df_new_pr = df_new.withColumn('predict',\\\n",
    "                             when((df_new.petal_length < 2.5) & (df_new.petal_width < 1), lit('Setosa'))\\\n",
    "                             .otherwise(lit('Unknown'))\n",
    "                             )\n",
    "df_new_pr.show(5)"
   ]
  },
  {
   "cell_type": "code",
   "execution_count": 61,
   "id": "733efa0a",
   "metadata": {},
   "outputs": [
    {
     "name": "stdout",
     "output_type": "stream",
     "text": [
      "-RECORD 0-------------------------------------------------------------------------------\n",
      " count(CASE WHEN (variety = Setosa) THEN true END)                                | 50  \n",
      " count(CASE WHEN ((variety = Setosa) AND (predict = Setosa)) THEN true END)       | 50  \n",
      " count(CASE WHEN ((NOT (variety = Setosa)) AND (predict = Setosa)) THEN true END) | 0   \n",
      "\n"
     ]
    }
   ],
   "source": [
    "# 7. Проверяем качество нашего предсказания путем подсчета количества строк\n",
    "\n",
    "df_new_pr.agg(\n",
    "    count(when(col('variety') == 'Setosa', True)), \n",
    "    count(when((col('variety') == 'Setosa') & (col('predict') == 'Setosa'), True)),\n",
    "    count(when((col('variety') != 'Setosa') & (col('predict') == 'Setosa'), True))).show(vertical=True)"
   ]
  },
  {
   "cell_type": "markdown",
   "id": "a3f14835",
   "metadata": {},
   "source": [
    "#### Делаем вывод, что сформулированное нами в п. 5 правило для исходного датасета предсказало класс цветка Setosa со 100% точностью"
   ]
  }
 ],
 "metadata": {
  "kernelspec": {
   "display_name": "Python 3 (ipykernel)",
   "language": "python",
   "name": "python3"
  },
  "language_info": {
   "codemirror_mode": {
    "name": "ipython",
    "version": 3
   },
   "file_extension": ".py",
   "mimetype": "text/x-python",
   "name": "python",
   "nbconvert_exporter": "python",
   "pygments_lexer": "ipython3",
   "version": "3.9.7"
  }
 },
 "nbformat": 4,
 "nbformat_minor": 5
}
