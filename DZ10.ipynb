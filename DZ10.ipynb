{
 "cells": [
  {
   "cell_type": "markdown",
   "id": "288b4fc5",
   "metadata": {},
   "source": [
    "# Задание по теме 2.3.2\n",
    "В этом задании вам необходимо использовать набор данных ad.csv. \n",
    "1) Датасет содержит 2 столбца: объявление (A/B) и действие (0/1).\n",
    "\n",
    "2) Вам необходимо сформулировать гипотезу, провести ее проверку (пользуясь классическим подходом) и ответить на вопрос какое из объявлений лучше. \n",
    "\n",
    "Будем считать, что А - контрольная группа, В - тестовая группа, 0 - не было клика по объявлению, 1 - был клик (покупка) по объявлению.\n",
    "\n",
    "Сформулируем гипотезы и установим уровень доверия 95%:\n",
    "\n",
    "p(A) - коэффициент конверсии старого дизайна объявления\n",
    "\n",
    "p(B) - коэффициент конверсии нового дизайна объявления\n",
    "\n",
    "Н0: p(A) = p(B)\n",
    "\n",
    "Н1: P(A) ≠ p(B)"
   ]
  },
  {
   "cell_type": "code",
   "execution_count": 55,
   "id": "042fe29a",
   "metadata": {},
   "outputs": [],
   "source": [
    "import numpy as np\n",
    "import pandas as pd\n",
    "import scipy as sc"
   ]
  },
  {
   "cell_type": "code",
   "execution_count": 56,
   "id": "fe0d17e8",
   "metadata": {},
   "outputs": [],
   "source": [
    "df=pd.read_csv('ad.csv')"
   ]
  },
  {
   "cell_type": "code",
   "execution_count": 57,
   "id": "4a1287cf",
   "metadata": {},
   "outputs": [
    {
     "data": {
      "text/html": [
       "<div>\n",
       "<style scoped>\n",
       "    .dataframe tbody tr th:only-of-type {\n",
       "        vertical-align: middle;\n",
       "    }\n",
       "\n",
       "    .dataframe tbody tr th {\n",
       "        vertical-align: top;\n",
       "    }\n",
       "\n",
       "    .dataframe thead th {\n",
       "        text-align: right;\n",
       "    }\n",
       "</style>\n",
       "<table border=\"1\" class=\"dataframe\">\n",
       "  <thead>\n",
       "    <tr style=\"text-align: right;\">\n",
       "      <th></th>\n",
       "      <th>ad_id</th>\n",
       "      <th>action</th>\n",
       "    </tr>\n",
       "  </thead>\n",
       "  <tbody>\n",
       "    <tr>\n",
       "      <th>0</th>\n",
       "      <td>B</td>\n",
       "      <td>1</td>\n",
       "    </tr>\n",
       "    <tr>\n",
       "      <th>1</th>\n",
       "      <td>B</td>\n",
       "      <td>1</td>\n",
       "    </tr>\n",
       "    <tr>\n",
       "      <th>2</th>\n",
       "      <td>A</td>\n",
       "      <td>0</td>\n",
       "    </tr>\n",
       "    <tr>\n",
       "      <th>3</th>\n",
       "      <td>B</td>\n",
       "      <td>0</td>\n",
       "    </tr>\n",
       "    <tr>\n",
       "      <th>4</th>\n",
       "      <td>A</td>\n",
       "      <td>1</td>\n",
       "    </tr>\n",
       "  </tbody>\n",
       "</table>\n",
       "</div>"
      ],
      "text/plain": [
       "  ad_id  action\n",
       "0     B       1\n",
       "1     B       1\n",
       "2     A       0\n",
       "3     B       0\n",
       "4     A       1"
      ]
     },
     "execution_count": 57,
     "metadata": {},
     "output_type": "execute_result"
    }
   ],
   "source": [
    "df.head()"
   ]
  },
  {
   "cell_type": "code",
   "execution_count": 58,
   "id": "6d64b9ea",
   "metadata": {},
   "outputs": [],
   "source": [
    "# используем функцию crosstab для создания таблицы кросс-табуляции, которая покажет:\n",
    "# - сколько было кликов по объявлению в каждой группе;\n",
    "# - количество просмотров объявления в каждой группе.\n",
    "\n",
    "summary = pd.crosstab(df.ad_id,df.action, margins=True, margins_name='Total')"
   ]
  },
  {
   "cell_type": "code",
   "execution_count": 59,
   "id": "34f32602",
   "metadata": {},
   "outputs": [
    {
     "data": {
      "text/html": [
       "<div>\n",
       "<style scoped>\n",
       "    .dataframe tbody tr th:only-of-type {\n",
       "        vertical-align: middle;\n",
       "    }\n",
       "\n",
       "    .dataframe tbody tr th {\n",
       "        vertical-align: top;\n",
       "    }\n",
       "\n",
       "    .dataframe thead th {\n",
       "        text-align: right;\n",
       "    }\n",
       "</style>\n",
       "<table border=\"1\" class=\"dataframe\">\n",
       "  <thead>\n",
       "    <tr style=\"text-align: right;\">\n",
       "      <th>action</th>\n",
       "      <th>0</th>\n",
       "      <th>1</th>\n",
       "      <th>Total</th>\n",
       "      <th>conversion_rate</th>\n",
       "    </tr>\n",
       "    <tr>\n",
       "      <th>ad_id</th>\n",
       "      <th></th>\n",
       "      <th></th>\n",
       "      <th></th>\n",
       "      <th></th>\n",
       "    </tr>\n",
       "  </thead>\n",
       "  <tbody>\n",
       "    <tr>\n",
       "      <th>A</th>\n",
       "      <td>696</td>\n",
       "      <td>304</td>\n",
       "      <td>1000</td>\n",
       "      <td>0.304</td>\n",
       "    </tr>\n",
       "    <tr>\n",
       "      <th>B</th>\n",
       "      <td>628</td>\n",
       "      <td>372</td>\n",
       "      <td>1000</td>\n",
       "      <td>0.372</td>\n",
       "    </tr>\n",
       "    <tr>\n",
       "      <th>Total</th>\n",
       "      <td>1324</td>\n",
       "      <td>676</td>\n",
       "      <td>2000</td>\n",
       "      <td>NaN</td>\n",
       "    </tr>\n",
       "  </tbody>\n",
       "</table>\n",
       "</div>"
      ],
      "text/plain": [
       "action     0    1  Total  conversion_rate\n",
       "ad_id                                    \n",
       "A        696  304   1000            0.304\n",
       "B        628  372   1000            0.372\n",
       "Total   1324  676   2000              NaN"
      ]
     },
     "execution_count": 59,
     "metadata": {},
     "output_type": "execute_result"
    }
   ],
   "source": [
    "# добавляем столбец с коэффициентом конверсии (среднее значение) по каждой группе\n",
    "\n",
    "summary['conversion_rate']=df.pivot_table(values='action', index='ad_id')\n",
    "summary"
   ]
  },
  {
   "cell_type": "code",
   "execution_count": 60,
   "id": "f8d8be9b",
   "metadata": {},
   "outputs": [
    {
     "data": {
      "text/html": [
       "<div>\n",
       "<style scoped>\n",
       "    .dataframe tbody tr th:only-of-type {\n",
       "        vertical-align: middle;\n",
       "    }\n",
       "\n",
       "    .dataframe tbody tr th {\n",
       "        vertical-align: top;\n",
       "    }\n",
       "\n",
       "    .dataframe thead th {\n",
       "        text-align: right;\n",
       "    }\n",
       "</style>\n",
       "<table border=\"1\" class=\"dataframe\">\n",
       "  <thead>\n",
       "    <tr style=\"text-align: right;\">\n",
       "      <th>action</th>\n",
       "      <th>0</th>\n",
       "      <th>1</th>\n",
       "      <th>Total</th>\n",
       "      <th>conversion_rate</th>\n",
       "      <th>std_p</th>\n",
       "      <th>se_p</th>\n",
       "    </tr>\n",
       "    <tr>\n",
       "      <th>ad_id</th>\n",
       "      <th></th>\n",
       "      <th></th>\n",
       "      <th></th>\n",
       "      <th></th>\n",
       "      <th></th>\n",
       "      <th></th>\n",
       "    </tr>\n",
       "  </thead>\n",
       "  <tbody>\n",
       "    <tr>\n",
       "      <th>A</th>\n",
       "      <td>696</td>\n",
       "      <td>304</td>\n",
       "      <td>1000</td>\n",
       "      <td>0.304</td>\n",
       "      <td>0.460</td>\n",
       "      <td>0.0145</td>\n",
       "    </tr>\n",
       "    <tr>\n",
       "      <th>B</th>\n",
       "      <td>628</td>\n",
       "      <td>372</td>\n",
       "      <td>1000</td>\n",
       "      <td>0.372</td>\n",
       "      <td>0.483</td>\n",
       "      <td>0.0153</td>\n",
       "    </tr>\n",
       "    <tr>\n",
       "      <th>Total</th>\n",
       "      <td>1324</td>\n",
       "      <td>676</td>\n",
       "      <td>2000</td>\n",
       "      <td>NaN</td>\n",
       "      <td>NaN</td>\n",
       "      <td>NaN</td>\n",
       "    </tr>\n",
       "  </tbody>\n",
       "</table>\n",
       "</div>"
      ],
      "text/plain": [
       "action     0    1  Total  conversion_rate  std_p    se_p\n",
       "ad_id                                                   \n",
       "A        696  304   1000            0.304  0.460  0.0145\n",
       "B        628  372   1000            0.372  0.483  0.0153\n",
       "Total   1324  676   2000              NaN    NaN     NaN"
      ]
     },
     "execution_count": 60,
     "metadata": {},
     "output_type": "execute_result"
    }
   ],
   "source": [
    "# вычисляем стандартное отклонение и стандартную ошибку среднего для каждой группы\n",
    "\n",
    "summary['std_p'] = df.pivot_table(values='action', index='ad_id', aggfunc = lambda x: np.std(x, ddof=0)).round(3)\n",
    "summary['se_p'] = df.pivot_table(values='action', index='ad_id', aggfunc = lambda x: sc.stats.sem(x, ddof=0)).round(4)\n",
    "summary"
   ]
  },
  {
   "cell_type": "markdown",
   "id": "fb89caa5",
   "metadata": {},
   "source": [
    "Поскольку conversion_rate(В)>conversion_rate(A), то можно сделать предварительный вывод о том, что объявление В дает большую результативность, чем объявление А.\n",
    "\n",
    "Далее проверим, насколько разница в конверсии объявлений А и В статистически значима. Для этого используем критерий Z-статистики, при этом задав порог 5% для ошибки первого рода  (alpha=0.05)."
   ]
  },
  {
   "cell_type": "code",
   "execution_count": 61,
   "id": "81e349eb",
   "metadata": {},
   "outputs": [],
   "source": [
    "from statsmodels.stats.proportion import proportions_ztest, proportion_confint"
   ]
  },
  {
   "cell_type": "code",
   "execution_count": 62,
   "id": "f7f9cdb4",
   "metadata": {},
   "outputs": [],
   "source": [
    "# Выделяем контрольную группу А и тестовую группу В\n",
    "\n",
    "control_res = df[df['ad_id'] == 'A']['action']\n",
    "test_res = df[df['ad_id'] == 'B']['action']"
   ]
  },
  {
   "cell_type": "code",
   "execution_count": 63,
   "id": "a6df9883",
   "metadata": {},
   "outputs": [],
   "source": [
    "# Считаем количество элементов в каждой группе (nobs) и количество кликов (покупок) в каждой группе (successes)\n",
    "\n",
    "nobs = [control_res.count(), test_res.count()] \n",
    "successes = [control_res.sum(), test_res.sum()]"
   ]
  },
  {
   "cell_type": "code",
   "execution_count": 64,
   "id": "df1bd849",
   "metadata": {},
   "outputs": [
    {
     "name": "stdout",
     "output_type": "stream",
     "text": [
      "z_stat: -3.2144\n",
      "p_value: 0.0013\n"
     ]
    }
   ],
   "source": [
    "# Применяем критерий Z-статистики\n",
    "\n",
    "z_stat, pval = proportions_ztest(successes, nobs)\n",
    "print('z_stat:', z_stat.round(4))\n",
    "print('p_value:', pval.round(4))"
   ]
  },
  {
   "cell_type": "code",
   "execution_count": 65,
   "id": "2a3d92e2",
   "metadata": {},
   "outputs": [],
   "source": [
    "alpha=0.05"
   ]
  },
  {
   "cell_type": "code",
   "execution_count": 66,
   "id": "e51350b1",
   "metadata": {},
   "outputs": [
    {
     "name": "stdout",
     "output_type": "stream",
     "text": [
      "True\n"
     ]
    }
   ],
   "source": [
    "print(pval<alpha)"
   ]
  },
  {
   "cell_type": "markdown",
   "id": "1d69176a",
   "metadata": {},
   "source": [
    "Так как p_value < 0.05, то отклоняем нулевую гипотезу H0 и принимаем гипотезу Н1, что означает, что объявление В (новый дизайн) сработало иначе, чем объявление А (старый дизайн)."
   ]
  },
  {
   "cell_type": "code",
   "execution_count": 67,
   "id": "a53352a9",
   "metadata": {},
   "outputs": [
    {
     "name": "stdout",
     "output_type": "stream",
     "text": [
      "Доверительный интервал для контрольной группы А: 0.275 - 0.333\n",
      "Доверительный интервал для тестовой группы B: 0.342 - 0.402\n"
     ]
    }
   ],
   "source": [
    "# Рассчитываем доверительные интервалы\n",
    "\n",
    "(lower_con, lower_test), (upper_con, upper_test) = proportion_confint(successes, nobs=nobs, alpha=alpha)\n",
    "print('Доверительный интервал для контрольной группы А:', lower_con.round(3), '-', upper_con.round(3))\n",
    "print('Доверительный интервал для тестовой группы B:', lower_test.round(3), '-', upper_test.round(3))"
   ]
  },
  {
   "cell_type": "markdown",
   "id": "9a91fa27",
   "metadata": {},
   "source": [
    "Использование объявления В (новый дизайн) позволит поднять результативность до 40% (максимум на 10% по сравнению с объявлением А)"
   ]
  },
  {
   "cell_type": "markdown",
   "id": "30be3515",
   "metadata": {},
   "source": [
    "#### Вывод: В ходе проведенного АВ-тестирования было установлено, что использование объявления В (новый дизайн) даст большую результативность, чем использование объявления А (старый дизайн). При этом результативность повысится до 40%  (максимум на 10% по сравнению с объявлением А)."
   ]
  }
 ],
 "metadata": {
  "kernelspec": {
   "display_name": "Python 3 (ipykernel)",
   "language": "python",
   "name": "python3"
  },
  "language_info": {
   "codemirror_mode": {
    "name": "ipython",
    "version": 3
   },
   "file_extension": ".py",
   "mimetype": "text/x-python",
   "name": "python",
   "nbconvert_exporter": "python",
   "pygments_lexer": "ipython3",
   "version": "3.9.7"
  }
 },
 "nbformat": 4,
 "nbformat_minor": 5
}
